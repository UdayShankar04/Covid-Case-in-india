{
  "nbformat": 4,
  "nbformat_minor": 0,
  "metadata": {
    "colab": {
      "name": "covid cases in india",
      "provenance": [],
      "collapsed_sections": []
    },
    "kernelspec": {
      "name": "python3",
      "display_name": "Python 3"
    }
  },
  "cells": [
    {
      "cell_type": "markdown",
      "metadata": {
        "id": "e-6jnRm-AKfV",
        "colab_type": "text"
      },
      "source": [
        "# **Covid Cases in India**"
      ]
    },
    {
      "cell_type": "code",
      "metadata": {
        "id": "QZ1K5CDhz2lC",
        "colab_type": "code",
        "colab": {
          "base_uri": "https://localhost:8080/",
          "height": 1000
        },
        "outputId": "9f2af563-9321-48c3-d038-8d91333a56c3"
      },
      "source": [
        "import pandas as pd\n",
        "df = pd.read_json('https://www.mohfw.gov.in/data/datanew.json')\n",
        "df"
      ],
      "execution_count": 58,
      "outputs": [
        {
          "output_type": "execute_result",
          "data": {
            "text/html": [
              "<div>\n",
              "<style scoped>\n",
              "    .dataframe tbody tr th:only-of-type {\n",
              "        vertical-align: middle;\n",
              "    }\n",
              "\n",
              "    .dataframe tbody tr th {\n",
              "        vertical-align: top;\n",
              "    }\n",
              "\n",
              "    .dataframe thead th {\n",
              "        text-align: right;\n",
              "    }\n",
              "</style>\n",
              "<table border=\"1\" class=\"dataframe\">\n",
              "  <thead>\n",
              "    <tr style=\"text-align: right;\">\n",
              "      <th></th>\n",
              "      <th>sno</th>\n",
              "      <th>state_name</th>\n",
              "      <th>active</th>\n",
              "      <th>positive</th>\n",
              "      <th>cured</th>\n",
              "      <th>death</th>\n",
              "      <th>new_active</th>\n",
              "      <th>new_positive</th>\n",
              "      <th>new_cured</th>\n",
              "      <th>new_death</th>\n",
              "      <th>state_code</th>\n",
              "    </tr>\n",
              "  </thead>\n",
              "  <tbody>\n",
              "    <tr>\n",
              "      <th>0</th>\n",
              "      <td>2</td>\n",
              "      <td>Andaman and Nicobar Islands</td>\n",
              "      <td>196</td>\n",
              "      <td>3593</td>\n",
              "      <td>3345</td>\n",
              "      <td>52</td>\n",
              "      <td>174</td>\n",
              "      <td>3604</td>\n",
              "      <td>3378</td>\n",
              "      <td>52</td>\n",
              "      <td>35</td>\n",
              "    </tr>\n",
              "    <tr>\n",
              "      <th>1</th>\n",
              "      <td>1</td>\n",
              "      <td>Andhra Pradesh</td>\n",
              "      <td>90279</td>\n",
              "      <td>592760</td>\n",
              "      <td>497376</td>\n",
              "      <td>5105</td>\n",
              "      <td>88197</td>\n",
              "      <td>601462</td>\n",
              "      <td>508088</td>\n",
              "      <td>5177</td>\n",
              "      <td>28</td>\n",
              "    </tr>\n",
              "    <tr>\n",
              "      <th>2</th>\n",
              "      <td>3</td>\n",
              "      <td>Arunachal Pradesh</td>\n",
              "      <td>1892</td>\n",
              "      <td>6692</td>\n",
              "      <td>4787</td>\n",
              "      <td>13</td>\n",
              "      <td>1871</td>\n",
              "      <td>6851</td>\n",
              "      <td>4967</td>\n",
              "      <td>13</td>\n",
              "      <td>12</td>\n",
              "    </tr>\n",
              "    <tr>\n",
              "      <th>3</th>\n",
              "      <td>4</td>\n",
              "      <td>Assam</td>\n",
              "      <td>29091</td>\n",
              "      <td>148969</td>\n",
              "      <td>119367</td>\n",
              "      <td>511</td>\n",
              "      <td>28208</td>\n",
              "      <td>150349</td>\n",
              "      <td>121613</td>\n",
              "      <td>528</td>\n",
              "      <td>18</td>\n",
              "    </tr>\n",
              "    <tr>\n",
              "      <th>4</th>\n",
              "      <td>5</td>\n",
              "      <td>Bihar</td>\n",
              "      <td>12959</td>\n",
              "      <td>162463</td>\n",
              "      <td>148656</td>\n",
              "      <td>848</td>\n",
              "      <td>13156</td>\n",
              "      <td>164051</td>\n",
              "      <td>150040</td>\n",
              "      <td>855</td>\n",
              "      <td>10</td>\n",
              "    </tr>\n",
              "    <tr>\n",
              "      <th>5</th>\n",
              "      <td>6</td>\n",
              "      <td>Chandigarh</td>\n",
              "      <td>3171</td>\n",
              "      <td>8958</td>\n",
              "      <td>5683</td>\n",
              "      <td>104</td>\n",
              "      <td>3085</td>\n",
              "      <td>9256</td>\n",
              "      <td>6062</td>\n",
              "      <td>109</td>\n",
              "      <td>04</td>\n",
              "    </tr>\n",
              "    <tr>\n",
              "      <th>6</th>\n",
              "      <td>7</td>\n",
              "      <td>Chhattisgarh</td>\n",
              "      <td>37470</td>\n",
              "      <td>73966</td>\n",
              "      <td>35885</td>\n",
              "      <td>611</td>\n",
              "      <td>36036</td>\n",
              "      <td>77775</td>\n",
              "      <td>41111</td>\n",
              "      <td>628</td>\n",
              "      <td>22</td>\n",
              "    </tr>\n",
              "    <tr>\n",
              "      <th>7</th>\n",
              "      <td>8</td>\n",
              "      <td>Dadra and Nagar Haveli and Daman and Diu</td>\n",
              "      <td>233</td>\n",
              "      <td>2810</td>\n",
              "      <td>2575</td>\n",
              "      <td>2</td>\n",
              "      <td>221</td>\n",
              "      <td>2831</td>\n",
              "      <td>2608</td>\n",
              "      <td>2</td>\n",
              "      <td>26</td>\n",
              "    </tr>\n",
              "    <tr>\n",
              "      <th>8</th>\n",
              "      <td>10</td>\n",
              "      <td>Delhi</td>\n",
              "      <td>30914</td>\n",
              "      <td>230269</td>\n",
              "      <td>194516</td>\n",
              "      <td>4839</td>\n",
              "      <td>31721</td>\n",
              "      <td>234701</td>\n",
              "      <td>198103</td>\n",
              "      <td>4877</td>\n",
              "      <td>07</td>\n",
              "    </tr>\n",
              "    <tr>\n",
              "      <th>9</th>\n",
              "      <td>11</td>\n",
              "      <td>Goa</td>\n",
              "      <td>5375</td>\n",
              "      <td>26139</td>\n",
              "      <td>20445</td>\n",
              "      <td>319</td>\n",
              "      <td>5612</td>\n",
              "      <td>26783</td>\n",
              "      <td>20844</td>\n",
              "      <td>327</td>\n",
              "      <td>30</td>\n",
              "    </tr>\n",
              "    <tr>\n",
              "      <th>10</th>\n",
              "      <td>12</td>\n",
              "      <td>Gujarat</td>\n",
              "      <td>16262</td>\n",
              "      <td>117547</td>\n",
              "      <td>98029</td>\n",
              "      <td>3256</td>\n",
              "      <td>15975</td>\n",
              "      <td>118926</td>\n",
              "      <td>99681</td>\n",
              "      <td>3270</td>\n",
              "      <td>24</td>\n",
              "    </tr>\n",
              "    <tr>\n",
              "      <th>11</th>\n",
              "      <td>13</td>\n",
              "      <td>Haryana</td>\n",
              "      <td>21334</td>\n",
              "      <td>101316</td>\n",
              "      <td>78937</td>\n",
              "      <td>1045</td>\n",
              "      <td>21014</td>\n",
              "      <td>103773</td>\n",
              "      <td>81690</td>\n",
              "      <td>1069</td>\n",
              "      <td>06</td>\n",
              "    </tr>\n",
              "    <tr>\n",
              "      <th>12</th>\n",
              "      <td>14</td>\n",
              "      <td>Himachal Pradesh</td>\n",
              "      <td>4146</td>\n",
              "      <td>10795</td>\n",
              "      <td>6558</td>\n",
              "      <td>91</td>\n",
              "      <td>4146</td>\n",
              "      <td>11190</td>\n",
              "      <td>6946</td>\n",
              "      <td>98</td>\n",
              "      <td>02</td>\n",
              "    </tr>\n",
              "    <tr>\n",
              "      <th>13</th>\n",
              "      <td>15</td>\n",
              "      <td>Jammu and Kashmir</td>\n",
              "      <td>19503</td>\n",
              "      <td>58244</td>\n",
              "      <td>37809</td>\n",
              "      <td>932</td>\n",
              "      <td>20239</td>\n",
              "      <td>59711</td>\n",
              "      <td>38521</td>\n",
              "      <td>951</td>\n",
              "      <td>01</td>\n",
              "    </tr>\n",
              "    <tr>\n",
              "      <th>14</th>\n",
              "      <td>16</td>\n",
              "      <td>Jharkhand</td>\n",
              "      <td>14138</td>\n",
              "      <td>66074</td>\n",
              "      <td>51357</td>\n",
              "      <td>579</td>\n",
              "      <td>13703</td>\n",
              "      <td>67100</td>\n",
              "      <td>52807</td>\n",
              "      <td>590</td>\n",
              "      <td>20</td>\n",
              "    </tr>\n",
              "    <tr>\n",
              "      <th>15</th>\n",
              "      <td>17</td>\n",
              "      <td>Karnataka</td>\n",
              "      <td>101645</td>\n",
              "      <td>484990</td>\n",
              "      <td>375809</td>\n",
              "      <td>7536</td>\n",
              "      <td>103650</td>\n",
              "      <td>494356</td>\n",
              "      <td>383077</td>\n",
              "      <td>7629</td>\n",
              "      <td>29</td>\n",
              "    </tr>\n",
              "    <tr>\n",
              "      <th>16</th>\n",
              "      <td>18</td>\n",
              "      <td>Kerala</td>\n",
              "      <td>32775</td>\n",
              "      <td>117863</td>\n",
              "      <td>84608</td>\n",
              "      <td>480</td>\n",
              "      <td>34380</td>\n",
              "      <td>122214</td>\n",
              "      <td>87345</td>\n",
              "      <td>489</td>\n",
              "      <td>32</td>\n",
              "    </tr>\n",
              "    <tr>\n",
              "      <th>17</th>\n",
              "      <td>19</td>\n",
              "      <td>Ladakh</td>\n",
              "      <td>953</td>\n",
              "      <td>3535</td>\n",
              "      <td>2536</td>\n",
              "      <td>46</td>\n",
              "      <td>972</td>\n",
              "      <td>3576</td>\n",
              "      <td>2558</td>\n",
              "      <td>46</td>\n",
              "      <td>37</td>\n",
              "    </tr>\n",
              "    <tr>\n",
              "      <th>18</th>\n",
              "      <td>20</td>\n",
              "      <td>Lakshadweep</td>\n",
              "      <td>0</td>\n",
              "      <td>0</td>\n",
              "      <td>0</td>\n",
              "      <td>0</td>\n",
              "      <td>0</td>\n",
              "      <td>0</td>\n",
              "      <td>0</td>\n",
              "      <td>0</td>\n",
              "      <td>31</td>\n",
              "    </tr>\n",
              "    <tr>\n",
              "      <th>19</th>\n",
              "      <td>21</td>\n",
              "      <td>Madhya Pradesh</td>\n",
              "      <td>22136</td>\n",
              "      <td>95515</td>\n",
              "      <td>71535</td>\n",
              "      <td>1844</td>\n",
              "      <td>21631</td>\n",
              "      <td>97906</td>\n",
              "      <td>74398</td>\n",
              "      <td>1877</td>\n",
              "      <td>23</td>\n",
              "    </tr>\n",
              "    <tr>\n",
              "      <th>20</th>\n",
              "      <td>22</td>\n",
              "      <td>Maharashtra</td>\n",
              "      <td>297506</td>\n",
              "      <td>1121221</td>\n",
              "      <td>792832</td>\n",
              "      <td>30883</td>\n",
              "      <td>302135</td>\n",
              "      <td>1145840</td>\n",
              "      <td>812354</td>\n",
              "      <td>31351</td>\n",
              "      <td>27</td>\n",
              "    </tr>\n",
              "    <tr>\n",
              "      <th>21</th>\n",
              "      <td>23</td>\n",
              "      <td>Manipur</td>\n",
              "      <td>1751</td>\n",
              "      <td>8320</td>\n",
              "      <td>6521</td>\n",
              "      <td>48</td>\n",
              "      <td>1841</td>\n",
              "      <td>8430</td>\n",
              "      <td>6538</td>\n",
              "      <td>51</td>\n",
              "      <td>14</td>\n",
              "    </tr>\n",
              "    <tr>\n",
              "      <th>22</th>\n",
              "      <td>24</td>\n",
              "      <td>Meghalaya</td>\n",
              "      <td>1902</td>\n",
              "      <td>4195</td>\n",
              "      <td>2264</td>\n",
              "      <td>29</td>\n",
              "      <td>1983</td>\n",
              "      <td>4356</td>\n",
              "      <td>2342</td>\n",
              "      <td>31</td>\n",
              "      <td>17</td>\n",
              "    </tr>\n",
              "    <tr>\n",
              "      <th>23</th>\n",
              "      <td>25</td>\n",
              "      <td>Mizoram</td>\n",
              "      <td>567</td>\n",
              "      <td>1506</td>\n",
              "      <td>939</td>\n",
              "      <td>0</td>\n",
              "      <td>585</td>\n",
              "      <td>1534</td>\n",
              "      <td>949</td>\n",
              "      <td>0</td>\n",
              "      <td>15</td>\n",
              "    </tr>\n",
              "    <tr>\n",
              "      <th>24</th>\n",
              "      <td>26</td>\n",
              "      <td>Nagaland</td>\n",
              "      <td>1261</td>\n",
              "      <td>5263</td>\n",
              "      <td>3987</td>\n",
              "      <td>15</td>\n",
              "      <td>1193</td>\n",
              "      <td>5306</td>\n",
              "      <td>4098</td>\n",
              "      <td>15</td>\n",
              "      <td>13</td>\n",
              "    </tr>\n",
              "    <tr>\n",
              "      <th>25</th>\n",
              "      <td>27</td>\n",
              "      <td>Odisha</td>\n",
              "      <td>32405</td>\n",
              "      <td>162920</td>\n",
              "      <td>129859</td>\n",
              "      <td>656</td>\n",
              "      <td>33026</td>\n",
              "      <td>167161</td>\n",
              "      <td>133466</td>\n",
              "      <td>669</td>\n",
              "      <td>21</td>\n",
              "    </tr>\n",
              "    <tr>\n",
              "      <th>26</th>\n",
              "      <td>28</td>\n",
              "      <td>Puducherry</td>\n",
              "      <td>4770</td>\n",
              "      <td>21111</td>\n",
              "      <td>15923</td>\n",
              "      <td>418</td>\n",
              "      <td>4744</td>\n",
              "      <td>21428</td>\n",
              "      <td>16253</td>\n",
              "      <td>431</td>\n",
              "      <td>34</td>\n",
              "    </tr>\n",
              "    <tr>\n",
              "      <th>27</th>\n",
              "      <td>29</td>\n",
              "      <td>Punjab</td>\n",
              "      <td>21022</td>\n",
              "      <td>87184</td>\n",
              "      <td>63570</td>\n",
              "      <td>2592</td>\n",
              "      <td>21568</td>\n",
              "      <td>90032</td>\n",
              "      <td>65818</td>\n",
              "      <td>2646</td>\n",
              "      <td>03</td>\n",
              "    </tr>\n",
              "    <tr>\n",
              "      <th>28</th>\n",
              "      <td>30</td>\n",
              "      <td>Rajasthan</td>\n",
              "      <td>17049</td>\n",
              "      <td>107680</td>\n",
              "      <td>89352</td>\n",
              "      <td>1279</td>\n",
              "      <td>17495</td>\n",
              "      <td>109473</td>\n",
              "      <td>90685</td>\n",
              "      <td>1293</td>\n",
              "      <td>08</td>\n",
              "    </tr>\n",
              "    <tr>\n",
              "      <th>29</th>\n",
              "      <td>31</td>\n",
              "      <td>Sikkim</td>\n",
              "      <td>480</td>\n",
              "      <td>2221</td>\n",
              "      <td>1722</td>\n",
              "      <td>19</td>\n",
              "      <td>463</td>\n",
              "      <td>2274</td>\n",
              "      <td>1789</td>\n",
              "      <td>22</td>\n",
              "      <td>11</td>\n",
              "    </tr>\n",
              "    <tr>\n",
              "      <th>30</th>\n",
              "      <td>32</td>\n",
              "      <td>Tamil Nadu</td>\n",
              "      <td>46633</td>\n",
              "      <td>519860</td>\n",
              "      <td>464668</td>\n",
              "      <td>8559</td>\n",
              "      <td>46610</td>\n",
              "      <td>525420</td>\n",
              "      <td>470192</td>\n",
              "      <td>8618</td>\n",
              "      <td>33</td>\n",
              "    </tr>\n",
              "    <tr>\n",
              "      <th>31</th>\n",
              "      <td>34</td>\n",
              "      <td>Telengana</td>\n",
              "      <td>30443</td>\n",
              "      <td>165003</td>\n",
              "      <td>133555</td>\n",
              "      <td>1005</td>\n",
              "      <td>30673</td>\n",
              "      <td>167046</td>\n",
              "      <td>135357</td>\n",
              "      <td>1016</td>\n",
              "      <td>36</td>\n",
              "    </tr>\n",
              "    <tr>\n",
              "      <th>32</th>\n",
              "      <td>33</td>\n",
              "      <td>Tripura</td>\n",
              "      <td>7498</td>\n",
              "      <td>20676</td>\n",
              "      <td>12956</td>\n",
              "      <td>222</td>\n",
              "      <td>7162</td>\n",
              "      <td>20949</td>\n",
              "      <td>13559</td>\n",
              "      <td>228</td>\n",
              "      <td>16</td>\n",
              "    </tr>\n",
              "    <tr>\n",
              "      <th>33</th>\n",
              "      <td>35</td>\n",
              "      <td>Uttarakhand</td>\n",
              "      <td>11068</td>\n",
              "      <td>35947</td>\n",
              "      <td>24432</td>\n",
              "      <td>447</td>\n",
              "      <td>11714</td>\n",
              "      <td>37139</td>\n",
              "      <td>24965</td>\n",
              "      <td>460</td>\n",
              "      <td>05</td>\n",
              "    </tr>\n",
              "    <tr>\n",
              "      <th>34</th>\n",
              "      <td>36</td>\n",
              "      <td>Uttar Pradesh</td>\n",
              "      <td>67002</td>\n",
              "      <td>330265</td>\n",
              "      <td>258573</td>\n",
              "      <td>4690</td>\n",
              "      <td>68235</td>\n",
              "      <td>336294</td>\n",
              "      <td>263288</td>\n",
              "      <td>4771</td>\n",
              "      <td>09</td>\n",
              "    </tr>\n",
              "    <tr>\n",
              "      <th>35</th>\n",
              "      <td>37</td>\n",
              "      <td>West Bengal</td>\n",
              "      <td>24147</td>\n",
              "      <td>212383</td>\n",
              "      <td>184113</td>\n",
              "      <td>4123</td>\n",
              "      <td>24336</td>\n",
              "      <td>215580</td>\n",
              "      <td>187061</td>\n",
              "      <td>4183</td>\n",
              "      <td>19</td>\n",
              "    </tr>\n",
              "    <tr>\n",
              "      <th>36</th>\n",
              "      <td>11111</td>\n",
              "      <td></td>\n",
              "      <td>1009976</td>\n",
              "      <td>5118253</td>\n",
              "      <td>4025079</td>\n",
              "      <td>83198</td>\n",
              "      <td>1017754</td>\n",
              "      <td>5214677</td>\n",
              "      <td>4112551</td>\n",
              "      <td>84372</td>\n",
              "      <td></td>\n",
              "    </tr>\n",
              "  </tbody>\n",
              "</table>\n",
              "</div>"
            ],
            "text/plain": [
              "      sno                                state_name  ...  new_death  state_code\n",
              "0       2               Andaman and Nicobar Islands  ...         52          35\n",
              "1       1                            Andhra Pradesh  ...       5177          28\n",
              "2       3                         Arunachal Pradesh  ...         13          12\n",
              "3       4                                     Assam  ...        528          18\n",
              "4       5                                     Bihar  ...        855          10\n",
              "5       6                                Chandigarh  ...        109          04\n",
              "6       7                              Chhattisgarh  ...        628          22\n",
              "7       8  Dadra and Nagar Haveli and Daman and Diu  ...          2          26\n",
              "8      10                                     Delhi  ...       4877          07\n",
              "9      11                                       Goa  ...        327          30\n",
              "10     12                                   Gujarat  ...       3270          24\n",
              "11     13                                   Haryana  ...       1069          06\n",
              "12     14                          Himachal Pradesh  ...         98          02\n",
              "13     15                         Jammu and Kashmir  ...        951          01\n",
              "14     16                                 Jharkhand  ...        590          20\n",
              "15     17                                 Karnataka  ...       7629          29\n",
              "16     18                                    Kerala  ...        489          32\n",
              "17     19                                    Ladakh  ...         46          37\n",
              "18     20                               Lakshadweep  ...          0          31\n",
              "19     21                            Madhya Pradesh  ...       1877          23\n",
              "20     22                               Maharashtra  ...      31351          27\n",
              "21     23                                   Manipur  ...         51          14\n",
              "22     24                                 Meghalaya  ...         31          17\n",
              "23     25                                   Mizoram  ...          0          15\n",
              "24     26                                  Nagaland  ...         15          13\n",
              "25     27                                    Odisha  ...        669          21\n",
              "26     28                                Puducherry  ...        431          34\n",
              "27     29                                    Punjab  ...       2646          03\n",
              "28     30                                 Rajasthan  ...       1293          08\n",
              "29     31                                    Sikkim  ...         22          11\n",
              "30     32                                Tamil Nadu  ...       8618          33\n",
              "31     34                                 Telengana  ...       1016          36\n",
              "32     33                                   Tripura  ...        228          16\n",
              "33     35                               Uttarakhand  ...        460          05\n",
              "34     36                             Uttar Pradesh  ...       4771          09\n",
              "35     37                               West Bengal  ...       4183          19\n",
              "36  11111                                            ...      84372            \n",
              "\n",
              "[37 rows x 11 columns]"
            ]
          },
          "metadata": {
            "tags": []
          },
          "execution_count": 58
        }
      ]
    },
    {
      "cell_type": "code",
      "metadata": {
        "id": "KZt7l4EF0Khd",
        "colab_type": "code",
        "colab": {}
      },
      "source": [
        "df = df.iloc[:-1,1:]"
      ],
      "execution_count": 59,
      "outputs": []
    },
    {
      "cell_type": "code",
      "metadata": {
        "id": "0A2jj21x0dTw",
        "colab_type": "code",
        "colab": {
          "base_uri": "https://localhost:8080/",
          "height": 206
        },
        "outputId": "5a6c93ec-66af-4331-c927-59ebd3696f66"
      },
      "source": [
        "df.tail()"
      ],
      "execution_count": 60,
      "outputs": [
        {
          "output_type": "execute_result",
          "data": {
            "text/html": [
              "<div>\n",
              "<style scoped>\n",
              "    .dataframe tbody tr th:only-of-type {\n",
              "        vertical-align: middle;\n",
              "    }\n",
              "\n",
              "    .dataframe tbody tr th {\n",
              "        vertical-align: top;\n",
              "    }\n",
              "\n",
              "    .dataframe thead th {\n",
              "        text-align: right;\n",
              "    }\n",
              "</style>\n",
              "<table border=\"1\" class=\"dataframe\">\n",
              "  <thead>\n",
              "    <tr style=\"text-align: right;\">\n",
              "      <th></th>\n",
              "      <th>state_name</th>\n",
              "      <th>active</th>\n",
              "      <th>positive</th>\n",
              "      <th>cured</th>\n",
              "      <th>death</th>\n",
              "      <th>new_active</th>\n",
              "      <th>new_positive</th>\n",
              "      <th>new_cured</th>\n",
              "      <th>new_death</th>\n",
              "      <th>state_code</th>\n",
              "    </tr>\n",
              "  </thead>\n",
              "  <tbody>\n",
              "    <tr>\n",
              "      <th>31</th>\n",
              "      <td>Telengana</td>\n",
              "      <td>30443</td>\n",
              "      <td>165003</td>\n",
              "      <td>133555</td>\n",
              "      <td>1005</td>\n",
              "      <td>30673</td>\n",
              "      <td>167046</td>\n",
              "      <td>135357</td>\n",
              "      <td>1016</td>\n",
              "      <td>36</td>\n",
              "    </tr>\n",
              "    <tr>\n",
              "      <th>32</th>\n",
              "      <td>Tripura</td>\n",
              "      <td>7498</td>\n",
              "      <td>20676</td>\n",
              "      <td>12956</td>\n",
              "      <td>222</td>\n",
              "      <td>7162</td>\n",
              "      <td>20949</td>\n",
              "      <td>13559</td>\n",
              "      <td>228</td>\n",
              "      <td>16</td>\n",
              "    </tr>\n",
              "    <tr>\n",
              "      <th>33</th>\n",
              "      <td>Uttarakhand</td>\n",
              "      <td>11068</td>\n",
              "      <td>35947</td>\n",
              "      <td>24432</td>\n",
              "      <td>447</td>\n",
              "      <td>11714</td>\n",
              "      <td>37139</td>\n",
              "      <td>24965</td>\n",
              "      <td>460</td>\n",
              "      <td>05</td>\n",
              "    </tr>\n",
              "    <tr>\n",
              "      <th>34</th>\n",
              "      <td>Uttar Pradesh</td>\n",
              "      <td>67002</td>\n",
              "      <td>330265</td>\n",
              "      <td>258573</td>\n",
              "      <td>4690</td>\n",
              "      <td>68235</td>\n",
              "      <td>336294</td>\n",
              "      <td>263288</td>\n",
              "      <td>4771</td>\n",
              "      <td>09</td>\n",
              "    </tr>\n",
              "    <tr>\n",
              "      <th>35</th>\n",
              "      <td>West Bengal</td>\n",
              "      <td>24147</td>\n",
              "      <td>212383</td>\n",
              "      <td>184113</td>\n",
              "      <td>4123</td>\n",
              "      <td>24336</td>\n",
              "      <td>215580</td>\n",
              "      <td>187061</td>\n",
              "      <td>4183</td>\n",
              "      <td>19</td>\n",
              "    </tr>\n",
              "  </tbody>\n",
              "</table>\n",
              "</div>"
            ],
            "text/plain": [
              "       state_name  active  positive  ...  new_cured  new_death  state_code\n",
              "31      Telengana   30443    165003  ...     135357       1016          36\n",
              "32        Tripura    7498     20676  ...      13559        228          16\n",
              "33    Uttarakhand   11068     35947  ...      24965        460          05\n",
              "34  Uttar Pradesh   67002    330265  ...     263288       4771          09\n",
              "35    West Bengal   24147    212383  ...     187061       4183          19\n",
              "\n",
              "[5 rows x 10 columns]"
            ]
          },
          "metadata": {
            "tags": []
          },
          "execution_count": 60
        }
      ]
    },
    {
      "cell_type": "code",
      "metadata": {
        "id": "wRwGvpg10eJb",
        "colab_type": "code",
        "colab": {}
      },
      "source": [
        "import matplotlib.pyplot as plt\n",
        "%matplotlib inline\n",
        "import numpy as np\n",
        "\n",
        "total_state = np.arange(len(df['state_name']))"
      ],
      "execution_count": 63,
      "outputs": []
    },
    {
      "cell_type": "code",
      "metadata": {
        "id": "Ewt7m4OI3an6",
        "colab_type": "code",
        "colab": {
          "base_uri": "https://localhost:8080/",
          "height": 69
        },
        "outputId": "128f6c2d-5083-4d9c-9803-f8159d21768d"
      },
      "source": [
        "total_state"
      ],
      "execution_count": 64,
      "outputs": [
        {
          "output_type": "execute_result",
          "data": {
            "text/plain": [
              "array([ 0,  1,  2,  3,  4,  5,  6,  7,  8,  9, 10, 11, 12, 13, 14, 15, 16,\n",
              "       17, 18, 19, 20, 21, 22, 23, 24, 25, 26, 27, 28, 29, 30, 31, 32, 33,\n",
              "       34, 35])"
            ]
          },
          "metadata": {
            "tags": []
          },
          "execution_count": 64
        }
      ]
    },
    {
      "cell_type": "code",
      "metadata": {
        "id": "XWY2Irg13iqZ",
        "colab_type": "code",
        "colab": {
          "base_uri": "https://localhost:8080/",
          "height": 660
        },
        "outputId": "59037507-d076-41fa-bc23-3a2b6e3c51d7"
      },
      "source": [
        "df['active']"
      ],
      "execution_count": 65,
      "outputs": [
        {
          "output_type": "execute_result",
          "data": {
            "text/plain": [
              "0        196\n",
              "1      90279\n",
              "2       1892\n",
              "3      29091\n",
              "4      12959\n",
              "5       3171\n",
              "6      37470\n",
              "7        233\n",
              "8      30914\n",
              "9       5375\n",
              "10     16262\n",
              "11     21334\n",
              "12      4146\n",
              "13     19503\n",
              "14     14138\n",
              "15    101645\n",
              "16     32775\n",
              "17       953\n",
              "18         0\n",
              "19     22136\n",
              "20    297506\n",
              "21      1751\n",
              "22      1902\n",
              "23       567\n",
              "24      1261\n",
              "25     32405\n",
              "26      4770\n",
              "27     21022\n",
              "28     17049\n",
              "29       480\n",
              "30     46633\n",
              "31     30443\n",
              "32      7498\n",
              "33     11068\n",
              "34     67002\n",
              "35     24147\n",
              "Name: active, dtype: int64"
            ]
          },
          "metadata": {
            "tags": []
          },
          "execution_count": 65
        }
      ]
    },
    {
      "cell_type": "code",
      "metadata": {
        "id": "Qfg4MD5H379N",
        "colab_type": "code",
        "colab": {
          "base_uri": "https://localhost:8080/",
          "height": 34
        },
        "outputId": "c686cda8-689a-46cb-f225-e592ee35ed32"
      },
      "source": [
        "max(df['positive'])"
      ],
      "execution_count": 66,
      "outputs": [
        {
          "output_type": "execute_result",
          "data": {
            "text/plain": [
              "1121221"
            ]
          },
          "metadata": {
            "tags": []
          },
          "execution_count": 66
        }
      ]
    },
    {
      "cell_type": "markdown",
      "metadata": {
        "id": "e-yI-mhz7Kk_",
        "colab_type": "text"
      },
      "source": [
        "# Total Positive Cases Based On States in India"
      ]
    },
    {
      "cell_type": "code",
      "metadata": {
        "id": "M1ZMQsWj4YJx",
        "colab_type": "code",
        "colab": {
          "base_uri": "https://localhost:8080/",
          "height": 444
        },
        "outputId": "15c2727b-8dec-472d-d5df-2e9f0dd9c98b"
      },
      "source": [
        "from matplotlib.pyplot import figure\n",
        "figure(num = None, figsize = (9, 6), dpi = 80, facecolor = 'w',\n",
        "       edgecolor = 'k')\n",
        "plt.barh(total_state, df['positive'], align='center', alpha=0.5,\n",
        "         color = (1, 0, 0),\n",
        "         edgecolor = (0.5, 0.2, 0.8))\n",
        "plt.yticks(total_state, df['state_name'])\n",
        "plt.xlim(1, max(df['positive'])+100)\n",
        "plt.xlabel('Positive Number of Cases')\n",
        "plt.title('Corona Virus Cases')\n",
        "plt.show()"
      ],
      "execution_count": 67,
      "outputs": [
        {
          "output_type": "display_data",
          "data": {
            "image/png": "[encoded data removed]",
            "text/plain": [
              "<Figure size 720x480 with 1 Axes>"
            ]
          },
          "metadata": {
            "tags": []
          }
        }
      ]
    },
    {
      "cell_type": "markdown",
      "metadata": {
        "id": "MQoOIzpI9enf",
        "colab_type": "text"
      },
      "source": [
        "# Active Number of Cases based on States"
      ]
    },
    {
      "cell_type": "code",
      "metadata": {
        "id": "pTC5ECFt8nd5",
        "colab_type": "code",
        "colab": {
          "base_uri": "https://localhost:8080/",
          "height": 444
        },
        "outputId": "9b00541e-d51b-43b9-b8f6-00763270a927"
      },
      "source": [
        "from matplotlib.pyplot import figure\n",
        "figure(num = None, figsize=(9, 6), dpi = 80, facecolor='w', edgecolor='k')\n",
        "plt.barh(total_state, df['new_active'], align='center', alpha=0.5,\n",
        "         color = (1, 0.5, 0),\n",
        "         edgecolor = (0.5, 0.4, 0.8))\n",
        "plt.yticks(total_state, df['state_name'])\n",
        "plt.xlim(1, max(df['new_active'])+10)\n",
        "plt.xlabel('Active Number of Cases')\n",
        "plt.title('Corona Virus Cases')\n",
        "plt.show()"
      ],
      "execution_count": 68,
      "outputs": [
        {
          "output_type": "display_data",
          "data": {
            "image/png": "[encoded data removed]",
            "text/plain": [
              "<Figure size 720x480 with 1 Axes>"
            ]
          },
          "metadata": {
            "tags": []
          }
        }
      ]
    },
    {
      "cell_type": "markdown",
      "metadata": {
        "id": "0Lr1e1rO--W9",
        "colab_type": "text"
      },
      "source": [
        "# Number of Death Cases"
      ]
    },
    {
      "cell_type": "code",
      "metadata": {
        "id": "gOgFZqwd-a3H",
        "colab_type": "code",
        "colab": {
          "base_uri": "https://localhost:8080/",
          "height": 444
        },
        "outputId": "90d5edc8-d0a0-4507-88c8-ba129675bd39"
      },
      "source": [
        "from matplotlib.pyplot import figure\n",
        "figure(num = None, figsize=(9, 6), dpi = 80, facecolor = 'w', edgecolor='k')\n",
        "plt.barh(total_state, df['death'],align='center',alpha = 0.5,\n",
        "         color = (0, 0, 1),\n",
        "         edgecolor = (0.5, 0.4, 0.8))\n",
        "\n",
        "plt.yticks(total_state, df['state_name'])\n",
        "plt.xlim(1, max(df['death']) +10)\n",
        "plt.xlabel('Death Number of Cases')\n",
        "plt.title('Corona Virus Cases')\n",
        "plt.show()"
      ],
      "execution_count": 69,
      "outputs": [
        {
          "output_type": "display_data",
          "data": {
            "image/png": "[encoded data removed]",
            "text/plain": [
              "<Figure size 720x480 with 1 Axes>"
            ]
          },
          "metadata": {
            "tags": []
          }
        }
      ]
    },
    {
      "cell_type": "code",
      "metadata": {
        "id": "rehnfRL6_4IO",
        "colab_type": "code",
        "colab": {}
      },
      "source": [
        ""
      ],
      "execution_count": 69,
      "outputs": []
    },
    {
      "cell_type": "markdown",
      "metadata": {
        "id": "09xzh9jdAIuC",
        "colab_type": "text"
      },
      "source": [
        "# Stack All the columns in the bar chart"
      ]
    },
    {
      "cell_type": "code",
      "metadata": {
        "id": "eIdB2lE8Aq2w",
        "colab_type": "code",
        "colab": {
          "base_uri": "https://localhost:8080/",
          "height": 69
        },
        "outputId": "a90264f1-0356-44fd-bc5a-19135128f25b"
      },
      "source": [
        "df.columns"
      ],
      "execution_count": 70,
      "outputs": [
        {
          "output_type": "execute_result",
          "data": {
            "text/plain": [
              "Index(['state_name', 'active', 'positive', 'cured', 'death', 'new_active',\n",
              "       'new_positive', 'new_cured', 'new_death', 'state_code'],\n",
              "      dtype='object')"
            ]
          },
          "metadata": {
            "tags": []
          },
          "execution_count": 70
        }
      ]
    },
    {
      "cell_type": "code",
      "metadata": {
        "id": "7btAtEKQAshL",
        "colab_type": "code",
        "colab": {}
      },
      "source": [
        "df = df.set_index('state_name', drop = True)"
      ],
      "execution_count": 71,
      "outputs": []
    },
    {
      "cell_type": "code",
      "metadata": {
        "id": "DAYCP1CqA0IE",
        "colab_type": "code",
        "colab": {
          "base_uri": "https://localhost:8080/",
          "height": 237
        },
        "outputId": "10a2ac00-1459-42c1-d98c-ec75309eb2ac"
      },
      "source": [
        "df.head()"
      ],
      "execution_count": 73,
      "outputs": [
        {
          "output_type": "execute_result",
          "data": {
            "text/html": [
              "<div>\n",
              "<style scoped>\n",
              "    .dataframe tbody tr th:only-of-type {\n",
              "        vertical-align: middle;\n",
              "    }\n",
              "\n",
              "    .dataframe tbody tr th {\n",
              "        vertical-align: top;\n",
              "    }\n",
              "\n",
              "    .dataframe thead th {\n",
              "        text-align: right;\n",
              "    }\n",
              "</style>\n",
              "<table border=\"1\" class=\"dataframe\">\n",
              "  <thead>\n",
              "    <tr style=\"text-align: right;\">\n",
              "      <th></th>\n",
              "      <th>active</th>\n",
              "      <th>positive</th>\n",
              "      <th>cured</th>\n",
              "      <th>death</th>\n",
              "      <th>new_active</th>\n",
              "      <th>new_positive</th>\n",
              "      <th>new_cured</th>\n",
              "      <th>new_death</th>\n",
              "      <th>state_code</th>\n",
              "    </tr>\n",
              "    <tr>\n",
              "      <th>state_name</th>\n",
              "      <th></th>\n",
              "      <th></th>\n",
              "      <th></th>\n",
              "      <th></th>\n",
              "      <th></th>\n",
              "      <th></th>\n",
              "      <th></th>\n",
              "      <th></th>\n",
              "      <th></th>\n",
              "    </tr>\n",
              "  </thead>\n",
              "  <tbody>\n",
              "    <tr>\n",
              "      <th>Andaman and Nicobar Islands</th>\n",
              "      <td>196</td>\n",
              "      <td>3593</td>\n",
              "      <td>3345</td>\n",
              "      <td>52</td>\n",
              "      <td>174</td>\n",
              "      <td>3604</td>\n",
              "      <td>3378</td>\n",
              "      <td>52</td>\n",
              "      <td>35</td>\n",
              "    </tr>\n",
              "    <tr>\n",
              "      <th>Andhra Pradesh</th>\n",
              "      <td>90279</td>\n",
              "      <td>592760</td>\n",
              "      <td>497376</td>\n",
              "      <td>5105</td>\n",
              "      <td>88197</td>\n",
              "      <td>601462</td>\n",
              "      <td>508088</td>\n",
              "      <td>5177</td>\n",
              "      <td>28</td>\n",
              "    </tr>\n",
              "    <tr>\n",
              "      <th>Arunachal Pradesh</th>\n",
              "      <td>1892</td>\n",
              "      <td>6692</td>\n",
              "      <td>4787</td>\n",
              "      <td>13</td>\n",
              "      <td>1871</td>\n",
              "      <td>6851</td>\n",
              "      <td>4967</td>\n",
              "      <td>13</td>\n",
              "      <td>12</td>\n",
              "    </tr>\n",
              "    <tr>\n",
              "      <th>Assam</th>\n",
              "      <td>29091</td>\n",
              "      <td>148969</td>\n",
              "      <td>119367</td>\n",
              "      <td>511</td>\n",
              "      <td>28208</td>\n",
              "      <td>150349</td>\n",
              "      <td>121613</td>\n",
              "      <td>528</td>\n",
              "      <td>18</td>\n",
              "    </tr>\n",
              "    <tr>\n",
              "      <th>Bihar</th>\n",
              "      <td>12959</td>\n",
              "      <td>162463</td>\n",
              "      <td>148656</td>\n",
              "      <td>848</td>\n",
              "      <td>13156</td>\n",
              "      <td>164051</td>\n",
              "      <td>150040</td>\n",
              "      <td>855</td>\n",
              "      <td>10</td>\n",
              "    </tr>\n",
              "  </tbody>\n",
              "</table>\n",
              "</div>"
            ],
            "text/plain": [
              "                             active  positive  ...  new_death  state_code\n",
              "state_name                                     ...                       \n",
              "Andaman and Nicobar Islands     196      3593  ...         52          35\n",
              "Andhra Pradesh                90279    592760  ...       5177          28\n",
              "Arunachal Pradesh              1892      6692  ...         13          12\n",
              "Assam                         29091    148969  ...        528          18\n",
              "Bihar                         12959    162463  ...        855          10\n",
              "\n",
              "[5 rows x 9 columns]"
            ]
          },
          "metadata": {
            "tags": []
          },
          "execution_count": 73
        }
      ]
    },
    {
      "cell_type": "code",
      "metadata": {
        "id": "cBYleGhPA2HS",
        "colab_type": "code",
        "colab": {
          "base_uri": "https://localhost:8080/",
          "height": 622
        },
        "outputId": "edd97e68-d421-4574-81b1-db6e52f89454"
      },
      "source": [
        "###Plotting Based on Stacking\n",
        "df.plot.barh(stacked = True, figsize = (10, 10))"
      ],
      "execution_count": 74,
      "outputs": [
        {
          "output_type": "execute_result",
          "data": {
            "text/plain": [
              "<matplotlib.axes._subplots.AxesSubplot at 0x7fc499194a90>"
            ]
          },
          "metadata": {
            "tags": []
          },
          "execution_count": 74
        },
        {
          "output_type": "display_data",
          "data": {
            "image/png": "[encoded data removed]",
            "text/plain": [
              "<Figure size 720x720 with 1 Axes>"
            ]
          },
          "metadata": {
            "tags": [],
            "needs_background": "light"
          }
        }
      ]
    },
    {
      "cell_type": "code",
      "metadata": {
        "id": "v1hr9e3tBCHY",
        "colab_type": "code",
        "colab": {
          "base_uri": "https://localhost:8080/",
          "height": 237
        },
        "outputId": "950f424f-beac-4e34-d83c-0207d03c3bfb"
      },
      "source": [
        "df1=df.iloc[:,1:3]\n",
        "df1.head()\n",
        "# df1.plot.barh(color={\"cured\":\"red\", \"positive\":\"green\"},figsize=(10,10))"
      ],
      "execution_count": 76,
      "outputs": [
        {
          "output_type": "execute_result",
          "data": {
            "text/html": [
              "<div>\n",
              "<style scoped>\n",
              "    .dataframe tbody tr th:only-of-type {\n",
              "        vertical-align: middle;\n",
              "    }\n",
              "\n",
              "    .dataframe tbody tr th {\n",
              "        vertical-align: top;\n",
              "    }\n",
              "\n",
              "    .dataframe thead th {\n",
              "        text-align: right;\n",
              "    }\n",
              "</style>\n",
              "<table border=\"1\" class=\"dataframe\">\n",
              "  <thead>\n",
              "    <tr style=\"text-align: right;\">\n",
              "      <th></th>\n",
              "      <th>positive</th>\n",
              "      <th>cured</th>\n",
              "    </tr>\n",
              "    <tr>\n",
              "      <th>state_name</th>\n",
              "      <th></th>\n",
              "      <th></th>\n",
              "    </tr>\n",
              "  </thead>\n",
              "  <tbody>\n",
              "    <tr>\n",
              "      <th>Andaman and Nicobar Islands</th>\n",
              "      <td>3593</td>\n",
              "      <td>3345</td>\n",
              "    </tr>\n",
              "    <tr>\n",
              "      <th>Andhra Pradesh</th>\n",
              "      <td>592760</td>\n",
              "      <td>497376</td>\n",
              "    </tr>\n",
              "    <tr>\n",
              "      <th>Arunachal Pradesh</th>\n",
              "      <td>6692</td>\n",
              "      <td>4787</td>\n",
              "    </tr>\n",
              "    <tr>\n",
              "      <th>Assam</th>\n",
              "      <td>148969</td>\n",
              "      <td>119367</td>\n",
              "    </tr>\n",
              "    <tr>\n",
              "      <th>Bihar</th>\n",
              "      <td>162463</td>\n",
              "      <td>148656</td>\n",
              "    </tr>\n",
              "  </tbody>\n",
              "</table>\n",
              "</div>"
            ],
            "text/plain": [
              "                             positive   cured\n",
              "state_name                                   \n",
              "Andaman and Nicobar Islands      3593    3345\n",
              "Andhra Pradesh                 592760  497376\n",
              "Arunachal Pradesh                6692    4787\n",
              "Assam                          148969  119367\n",
              "Bihar                          162463  148656"
            ]
          },
          "metadata": {
            "tags": []
          },
          "execution_count": 76
        }
      ]
    },
    {
      "cell_type": "code",
      "metadata": {
        "id": "9r2VPKhLBkX2",
        "colab_type": "code",
        "colab": {}
      },
      "source": [
        ""
      ],
      "execution_count": null,
      "outputs": []
    }
  ]
}